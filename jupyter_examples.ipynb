{
 "cells": [
  {
   "cell_type": "markdown",
   "metadata": {},
   "source": [
    "## Jupyter Notebook example\n",
    "\n",
    "Follow instructions and fill in where required. Do not modify anything else than what you are asked to."
   ]
  },
  {
   "cell_type": "markdown",
   "metadata": {},
   "source": [
    "## Table of Contents\n",
    "\n",
    "* [1. Shell commands and line magics](#shellmagic)\n",
    "* [2. Latex for formulas](#latex)\n",
    "* [3. Interactive widget](#interactive)\n",
    "* [4. Git](#git)"
   ]
  },
  {
   "cell_type": "markdown",
   "metadata": {},
   "source": [
    "### 1. Shell commands and line magics <a class=\"anchor\" id=\"shellmagic\"></a>\n",
    "\n",
    "1.1. In code cell below, run a shell command to print your working directory.\n",
    "\n",
    "1.2. Using a line magic create an alias called \"hello\" for command \"echo \"¡Hola mundo!\"\" and test it. Your answer should contain one line for creating alias and one line for using the alias."
   ]
  },
  {
   "cell_type": "code",
   "execution_count": 12,
   "metadata": {},
   "outputs": [],
   "source": [
    "# Exercise 1.1. here:\n",
    "\n",
    "# Exercise 1.2. here:\n"
   ]
  },
  {
   "cell_type": "markdown",
   "metadata": {},
   "source": [
    "### 2. Markdown text <a class=\"anchor\" id=\"latex\"></a>\n",
    "\n",
    "Different kind of text can be added into markdown cells. [Here](https://jupyter-notebook.readthedocs.io/en/stable/examples/Notebook/Working%20With%20Markdown%20Cells.html) is a good source into Markdown basics.\n",
    "\n",
    "2.1. In markdown cell below display Pythagorean theorem using LaTex syntax.\n",
    "\n",
    "2.2. Display a Python function called \"hello\" that returns \"Hallo Welt!\". Use Github flavored markdown. (You may use some other programming language here if you wish)"
   ]
  },
  {
   "cell_type": "markdown",
   "metadata": {},
   "source": [
    "2.1. here:\n",
    "\n",
    "\n",
    "\n",
    "2.2. here:\n"
   ]
  },
  {
   "cell_type": "markdown",
   "metadata": {},
   "source": [
    "### 3. Interactive widget <a class=\"anchor\" id=\"interactive\"></a>\n",
    "\n",
    "In the program below we want to investigate a set of movie reviews and see what are the most frequent words there. We are not interested in seeing punctuation marks or the clearly most common words referred as stopwords. \n",
    "\n",
    "3.1. Run the code and investigate the output. In the marked codeline there is something wrong that causes wrong output. Can you figure out what to add to display correct words?\n",
    "\n",
    "3.2. Use the @interact decorator at the end of the program to range displaying 5 to 10 most frequent words. You can see an example of the usage of the decorator [here](https://coderefinery.github.io/jupyter/05-exercises/#widgets-for-interactive-data-fitting)"
   ]
  },
  {
   "cell_type": "code",
   "execution_count": 1,
   "metadata": {},
   "outputs": [],
   "source": [
    "# Notice!: To install nltk data sets movie_reviews and stopwords you need to install the data sets with nltk.download. \n",
    "# See examples: https://www.nltk.org/data.html\n",
    "# Do that here:\n",
    "import nltk\n"
   ]
  },
  {
   "cell_type": "code",
   "execution_count": 9,
   "metadata": {},
   "outputs": [
    {
     "data": {
      "image/png": "[encoded data removed]",
      "text/plain": [
       "<Figure size 432x288 with 1 Axes>"
      ]
     },
     "metadata": {
      "needs_background": "light"
     },
     "output_type": "display_data"
    },
    {
     "data": {
      "text/plain": [
       "<matplotlib.axes._subplots.AxesSubplot at 0x125bacb50>"
      ]
     },
     "execution_count": 9,
     "metadata": {},
     "output_type": "execute_result"
    }
   ],
   "source": [
    "from nltk import FreqDist\n",
    "from nltk import RegexpTokenizer\n",
    "from nltk.corpus import movie_reviews\n",
    "from nltk.corpus import stopwords \n",
    "from ipywidgets import interact\n",
    "\n",
    "tokenizer = RegexpTokenizer(r\"\\w+\")\n",
    "word_tokens = tokenizer.tokenize(movie_reviews.raw())\n",
    "\n",
    "stop_words = set(stopwords.words('english'))\n",
    "\n",
    "# Exercise 3.1. below: \n",
    "filtered_words = [w for w in word_tokens if w in stop_words]\n",
    "\n",
    "fd = FreqDist(filtered_words)\n",
    "fd.plot(5)\n",
    "\n",
    "# Exercise 3.2. here:"
   ]
  },
  {
   "cell_type": "markdown",
   "metadata": {},
   "source": [
    "### 4. Git <a class=\"anchor\" id=\"git\"></a>\n",
    "\n",
    "Follow [these](https://coderefinery.github.io/jupyter/03-basic-workflow/#working-with-git-from-jupyterlab) instructions to save this notebook and create a repository for it. After you have done this, paste the repository url in the cell below. Please make your repository public on Github so that your reviewer is able to assess this exercise."
   ]
  },
  {
   "cell_type": "code",
   "execution_count": 52,
   "metadata": {},
   "outputs": [],
   "source": [
    "# Paste your repository url here: \n",
    "# "
   ]
  }
 ],
 "metadata": {
  "kernelspec": {
   "display_name": "Python 3",
   "language": "python",
   "name": "python3"
  },
  "language_info": {
   "codemirror_mode": {
    "name": "ipython",
    "version": 3
   },
   "file_extension": ".py",
   "mimetype": "text/x-python",
   "name": "python",
   "nbconvert_exporter": "python",
   "pygments_lexer": "ipython3",
   "version": "3.7.7"
  }
 },
 "nbformat": 4,
 "nbformat_minor": 4
}
